{
 "cells": [
  {
   "cell_type": "markdown",
   "id": "24b0a477",
   "metadata": {},
   "source": [
    "### 1. Why are functions advantageous to have in your programs?"
   ]
  },
  {
   "cell_type": "markdown",
   "id": "94cde055",
   "metadata": {},
   "source": [
    "ans:\n",
    "The function Reduces duplication of code.Improves clarity of the code and Reuse of code."
   ]
  },
  {
   "cell_type": "markdown",
   "id": "8232e361",
   "metadata": {},
   "source": [
    "### 2. When does the code in a function run: when its specified or when its called?"
   ]
  },
  {
   "cell_type": "markdown",
   "id": "fd77889d",
   "metadata": {},
   "source": [
    "ans: When its called."
   ]
  },
  {
   "cell_type": "markdown",
   "id": "3111f2ba",
   "metadata": {},
   "source": [
    "### 3. What statement creates a function?"
   ]
  },
  {
   "cell_type": "markdown",
   "id": "9ce39e3f",
   "metadata": {},
   "source": [
    "ans: def statement create a function.for eg:"
   ]
  },
  {
   "cell_type": "code",
   "execution_count": 5,
   "id": "2ead5ecc",
   "metadata": {},
   "outputs": [
    {
     "data": {
      "text/plain": [
       "5"
      ]
     },
     "execution_count": 5,
     "metadata": {},
     "output_type": "execute_result"
    }
   ],
   "source": [
    "def functionAdd(a,b): # function defined by using def and functionAdd is given name of function\n",
    "    return a + b\n",
    "\n",
    "functionAdd(2,3) # function called \n",
    "    "
   ]
  },
  {
   "cell_type": "markdown",
   "id": "c695685e",
   "metadata": {},
   "source": [
    "### 4. What is the difference between a function and a function call?"
   ]
  },
  {
   "cell_type": "markdown",
   "id": "286b70ab",
   "metadata": {},
   "source": [
    "ans: The function is a peice of code to define something or task and the function call is used to execute the function."
   ]
  },
  {
   "cell_type": "code",
   "execution_count": null,
   "id": "ae4700ba",
   "metadata": {},
   "outputs": [],
   "source": [
    "def functionAdd(a,b): # function defined \n",
    "    return a + b\n",
    "\n",
    "functionAdd(2,3) # function is called \n",
    "    "
   ]
  },
  {
   "cell_type": "markdown",
   "id": "0963fcf3",
   "metadata": {},
   "source": [
    "### 5. How many global scopes are there in a Python program? How many local scopes?"
   ]
  },
  {
   "cell_type": "markdown",
   "id": "fd59eac8",
   "metadata": {},
   "source": [
    "ans:\n",
    "There is only one global scope in a python program. There can be multiple local scopes in a python program  "
   ]
  },
  {
   "cell_type": "markdown",
   "id": "18fbe2a9",
   "metadata": {},
   "source": [
    "### 6. What happens to variables in a local scope when the function call returns?"
   ]
  },
  {
   "cell_type": "markdown",
   "id": "362efd67",
   "metadata": {},
   "source": [
    "ans: when the function call returns, all the variables in the local scope gets earsed form the memory."
   ]
  },
  {
   "cell_type": "markdown",
   "id": "16f20b50",
   "metadata": {},
   "source": [
    "### 7. What is the concept of a return value? Is it possible to have a return value in an expression?\n"
   ]
  },
  {
   "cell_type": "markdown",
   "id": "e3768683",
   "metadata": {},
   "source": [
    "ans:Return value conecepts means the end of a function execution. If a function returns a value, then we can use that in  expression."
   ]
  },
  {
   "cell_type": "markdown",
   "id": "dbffd8cc",
   "metadata": {},
   "source": [
    "### 8. If a function does not have a return statement, what is the return value of a call to that function?"
   ]
  },
  {
   "cell_type": "markdown",
   "id": "78687ea0",
   "metadata": {},
   "source": [
    "ans if the function does not have a return statement it returns none "
   ]
  },
  {
   "cell_type": "markdown",
   "id": "f5e66be4",
   "metadata": {},
   "source": [
    "### 9. What is the data type of None?"
   ]
  },
  {
   "cell_type": "markdown",
   "id": "c093b86e",
   "metadata": {},
   "source": [
    "ans: the data type of None is Nonetype"
   ]
  },
  {
   "cell_type": "markdown",
   "id": "370861b2",
   "metadata": {},
   "source": [
    "### 10. How do you make a function variable refer to the global variable?"
   ]
  },
  {
   "cell_type": "markdown",
   "id": "5dbe185d",
   "metadata": {},
   "source": [
    "ans : we can siply use \"global\" keyword.for eg:"
   ]
  },
  {
   "cell_type": "code",
   "execution_count": 7,
   "id": "3e3a6043",
   "metadata": {},
   "outputs": [
    {
     "data": {
      "text/plain": [
       "1"
      ]
     },
     "execution_count": 7,
     "metadata": {},
     "output_type": "execute_result"
    }
   ],
   "source": [
    "a=1\n",
    "def globalfunc():\n",
    "    global a       # here a is global variable\n",
    "    return a\n",
    "globalfunc()\n"
   ]
  },
  {
   "cell_type": "markdown",
   "id": "c9550f04",
   "metadata": {},
   "source": [
    "### 11. What does the sentence import areallyourpetsnamederic do?"
   ]
  },
  {
   "cell_type": "markdown",
   "id": "8d9af084",
   "metadata": {},
   "source": [
    "ans:it import module name areallyourpetsnamederic"
   ]
  },
  {
   "cell_type": "markdown",
   "id": "b283666e",
   "metadata": {},
   "source": [
    "### 12. If you had a bacon() feature in a spam module, what would you call it after importing spam?"
   ]
  },
  {
   "cell_type": "markdown",
   "id": "35b8134b",
   "metadata": {},
   "source": [
    "ans: import spam\n",
    "    spam.bacon()"
   ]
  },
  {
   "cell_type": "markdown",
   "id": "e43aba67",
   "metadata": {},
   "source": [
    "### 13. What can you do to save a programme from crashing if it encounters an error?"
   ]
  },
  {
   "cell_type": "markdown",
   "id": "47257427",
   "metadata": {},
   "source": [
    "ans: We can use error handling method for eg: Try and except"
   ]
  },
  {
   "cell_type": "markdown",
   "id": "5403ee2b",
   "metadata": {},
   "source": [
    "### 14. What is the purpose of the try clause? What is the purpose of the except clause?\n"
   ]
  },
  {
   "cell_type": "markdown",
   "id": "b14eedbc",
   "metadata": {},
   "source": [
    "ans:the Try statement is used to test the block for errors and  except block purpose is when try block fails to execute.this helps us to catch the error easily."
   ]
  },
  {
   "cell_type": "code",
   "execution_count": null,
   "id": "d3ad9413",
   "metadata": {},
   "outputs": [],
   "source": []
  }
 ],
 "metadata": {
  "kernelspec": {
   "display_name": "Python 3 (ipykernel)",
   "language": "python",
   "name": "python3"
  },
  "language_info": {
   "codemirror_mode": {
    "name": "ipython",
    "version": 3
   },
   "file_extension": ".py",
   "mimetype": "text/x-python",
   "name": "python",
   "nbconvert_exporter": "python",
   "pygments_lexer": "ipython3",
   "version": "3.9.7"
  }
 },
 "nbformat": 4,
 "nbformat_minor": 5
}
