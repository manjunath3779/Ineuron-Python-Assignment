{
 "cells": [
  {
   "cell_type": "markdown",
   "id": "37b5dfdc",
   "metadata": {},
   "source": [
    "### 1.What are the two values of the Boolean data type? How do you write them?"
   ]
  },
  {
   "cell_type": "markdown",
   "id": "dda002fc",
   "metadata": {},
   "source": [
    "ans . Two Boolean data types is TRUE and FALSE.we write them as True and False"
   ]
  },
  {
   "cell_type": "markdown",
   "id": "4ef2ac9b",
   "metadata": {},
   "source": [
    "### 2. What are the three different types of Boolean operators?"
   ]
  },
  {
   "cell_type": "markdown",
   "id": "a08c9f56",
   "metadata": {},
   "source": [
    "ans.the three different types of Boolean operators : AND,OR,NOT"
   ]
  },
  {
   "cell_type": "markdown",
   "id": "a3c7bb59",
   "metadata": {},
   "source": [
    "### 3. Make a list of each Boolean operator&#39;s truth tables \n",
    "(i.e. every possible combination of Boolean\n",
    "values for the operator and what it evaluate )"
   ]
  },
  {
   "cell_type": "markdown",
   "id": "9f3f9e34",
   "metadata": {},
   "source": [
    "ans. \n",
    "\n",
    "     AND operator : A and B = C               \n",
    "                    A\tB\tC\n",
    "                    1\t1\t1\n",
    "                    1\t0\t0\n",
    "                    0\t1\t0\n",
    "                    0\t0\t0\n",
    "                    \n",
    "    OR operator : A or B = C\n",
    "                    A\tB\tC\n",
    "                    1\t1\t1\n",
    "                    1\t0\t1\n",
    "                    0\t1\t1\n",
    "                    0\t0\t0\n",
    "    NOT operator: A = B\n",
    "                    A\tB\n",
    "                    1\t0\n",
    "                    0\t1"
   ]
  },
  {
   "cell_type": "markdown",
   "id": "b1bdbfb0",
   "metadata": {},
   "source": [
    "### 4. What are the values of the following expressions?"
   ]
  },
  {
   "cell_type": "markdown",
   "id": "c0857f63",
   "metadata": {},
   "source": [
    "ans \n",
    "\n",
    "(5 > 4) and (3 == 5) : False\n",
    "\n",
    "(5 > 4) : False\n",
    "\n",
    "(5 > 4) or (3 == 5) : True\n",
    "\n",
    "not ((5 > 4) or (3 == 5)) : False\n",
    "\n",
    "(True and True) and (True == False) : False\n",
    "\n",
    "(not False) or (not True) : True"
   ]
  },
  {
   "cell_type": "markdown",
   "id": "83c2e09d",
   "metadata": {},
   "source": [
    "### 5. What are the six comparison operators?"
   ]
  },
  {
   "cell_type": "markdown",
   "id": "f6498a81",
   "metadata": {},
   "source": [
    "ans \n",
    "\n",
    "    '>' less than\n",
    "    '<' greater than\n",
    "    '==' equal\n",
    "    '!=' not equal\n",
    "    '>=' greater than equal\n",
    "    '<=' less than equal\n"
   ]
  },
  {
   "cell_type": "markdown",
   "id": "45c05ce8",
   "metadata": {},
   "source": [
    "### 6. How do you tell the difference between the equal to and assignment operators? Describe a\n",
    "### condition and when you would use one."
   ]
  },
  {
   "cell_type": "markdown",
   "id": "e02ab141",
   "metadata": {},
   "source": [
    "ans\n",
    "equal to operator is denoted as ‘==’ .\n",
    "assignment operator is denoted as ‘=’ .\n",
    "we can use ‘=’ operator for assining variable.\n",
    "For example,\n",
    "x = 1 (for assigning value 1 to variable)\n",
    "we can use ‘==’ operator on an if statement.\n",
    "For example:\n",
    "if (x == 1):(it will check the condition if x is 1 or not )\n"
   ]
  },
  {
   "cell_type": "markdown",
   "id": "fcdb8f1b",
   "metadata": {},
   "source": [
    "### 7. Identify the three blocks in this code:\n"
   ]
  },
  {
   "cell_type": "code",
   "execution_count": 13,
   "id": "12f843ac",
   "metadata": {},
   "outputs": [
    {
     "name": "stdout",
     "output_type": "stream",
     "text": [
      "ham\n",
      "spam\n",
      "spam\n"
     ]
    }
   ],
   "source": [
    "#ans \n",
    "spam = 0\n",
    "if spam == 10:  \n",
    "    print('eggs')  # 1st block\n",
    "if spam > 5:\n",
    "    print('bacon') # 2nd block \n",
    "else:              \n",
    "    print('ham')   # 3rd block\n",
    "print('spam')\n",
    "print('spam')"
   ]
  },
  {
   "cell_type": "markdown",
   "id": "d42ef985",
   "metadata": {},
   "source": [
    "### 8. Write code that prints Hello if 1 is stored in spam, prints Howdy if 2 is stored in spam, and prints\n",
    "### Greetings! if anything else is stored in spam."
   ]
  },
  {
   "cell_type": "code",
   "execution_count": 15,
   "id": "c483d2ab",
   "metadata": {},
   "outputs": [
    {
     "name": "stdout",
     "output_type": "stream",
     "text": [
      "Greetings !\n"
     ]
    }
   ],
   "source": [
    "# ans \n",
    "spam = 0\n",
    "if spam == 1:  \n",
    "    print('Hello')  \n",
    "if spam == 2:\n",
    "    print('Howdy') \n",
    "else:              \n",
    "    print('Greetings !')  \n"
   ]
  },
  {
   "cell_type": "markdown",
   "id": "6b2db7dc",
   "metadata": {},
   "source": [
    "### 9.If your programme is stuck in an endless loop, what keys you’ll press?"
   ]
  },
  {
   "cell_type": "markdown",
   "id": "0c000712",
   "metadata": {},
   "source": [
    "ans:   CTRL + C"
   ]
  },
  {
   "cell_type": "markdown",
   "id": "e721ae23",
   "metadata": {},
   "source": [
    "### 10. How can you tell the difference between break and continue?"
   ]
  },
  {
   "cell_type": "markdown",
   "id": "a2675fe6",
   "metadata": {},
   "source": [
    "ans:\n",
    "\n",
    "    Break: The break is used to exit from the loop constructs. break is used to control the sequence of the loop.\n",
    "    continue : The continue is not used to exit from the loop constructs. continue is used to end the current iteration in a    loop(For or while)."
   ]
  },
  {
   "cell_type": "markdown",
   "id": "ed264460",
   "metadata": {},
   "source": [
    "### 11. In a for loop, what is the difference between range(10), range(0, 10), and range(0, 10, 1)?"
   ]
  },
  {
   "cell_type": "markdown",
   "id": "0b0201ed",
   "metadata": {},
   "source": [
    "ans :\n",
    "    \n",
    "    for range(10), 10 denotes the end  of range excluding 10\n",
    "    for range (0,10), 0 denotes start of range  and 10 denotes the end of range excluding 10\n",
    "    for range(0,10,1), 0 denotes start of range and 10 denotes end  of range excluding 10 and 1 denotes the jump of the range\n",
    "    \n",
    "    \n",
    "    "
   ]
  },
  {
   "cell_type": "markdown",
   "id": "29703d01",
   "metadata": {},
   "source": [
    "### 12. Write a short program that prints the numbers 1 to 10 using a for loop. Then write an equivalent\n",
    "### program that prints the numbers 1 to 10 using a while loop."
   ]
  },
  {
   "cell_type": "code",
   "execution_count": 17,
   "id": "015b6ff6",
   "metadata": {},
   "outputs": [
    {
     "name": "stdout",
     "output_type": "stream",
     "text": [
      "1\n",
      "2\n",
      "3\n",
      "4\n",
      "5\n",
      "6\n",
      "7\n",
      "8\n",
      "9\n",
      "10\n"
     ]
    }
   ],
   "source": [
    " #ans # Using For Loop\n",
    "for i in range(1,11):\n",
    "    print (i)"
   ]
  },
  {
   "cell_type": "code",
   "execution_count": 3,
   "id": "b644427b",
   "metadata": {},
   "outputs": [
    {
     "name": "stdout",
     "output_type": "stream",
     "text": [
      "1\n",
      "2\n",
      "3\n",
      "4\n",
      "5\n",
      "6\n",
      "7\n",
      "8\n",
      "9\n",
      "10\n"
     ]
    }
   ],
   "source": [
    "# Using While loop\n",
    "i=0\n",
    "while i<10:\n",
    "    i=i+1\n",
    "    print(i)"
   ]
  },
  {
   "cell_type": "markdown",
   "id": "a8e1d740",
   "metadata": {},
   "source": [
    "### 13. If you had a function named bacon() inside a module named spam, how would you call it after\n",
    "### importing spam?"
   ]
  },
  {
   "cell_type": "markdown",
   "id": "f91ae1a1",
   "metadata": {},
   "source": [
    "ans\n",
    "import spam \n",
    "spam.bacon()"
   ]
  },
  {
   "cell_type": "code",
   "execution_count": null,
   "id": "2c97a7cb",
   "metadata": {},
   "outputs": [],
   "source": []
  }
 ],
 "metadata": {
  "kernelspec": {
   "display_name": "Python 3 (ipykernel)",
   "language": "python",
   "name": "python3"
  },
  "language_info": {
   "codemirror_mode": {
    "name": "ipython",
    "version": 3
   },
   "file_extension": ".py",
   "mimetype": "text/x-python",
   "name": "python",
   "nbconvert_exporter": "python",
   "pygments_lexer": "ipython3",
   "version": "3.9.7"
  }
 },
 "nbformat": 4,
 "nbformat_minor": 5
}
