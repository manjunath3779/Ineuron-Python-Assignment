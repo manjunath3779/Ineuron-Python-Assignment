{
 "cells": [
  {
   "cell_type": "markdown",
   "id": "ef5ec810",
   "metadata": {},
   "source": [
    "# Basic Python Programming Assignment 2"
   ]
  },
  {
   "cell_type": "markdown",
   "id": "701089e0",
   "metadata": {},
   "source": [
    "### 1. Write a Python program to convert kilometers to miles?"
   ]
  },
  {
   "cell_type": "code",
   "execution_count": 4,
   "id": "ab96fe99",
   "metadata": {},
   "outputs": [
    {
     "name": "stdout",
     "output_type": "stream",
     "text": [
      "enter the Kilometers:50\n",
      "Miles: 31.0685\n"
     ]
    }
   ],
   "source": [
    "k=float(input(\"enter the Kilometers:\"))\n",
    "m=k*0.62137\n",
    "print(\"Miles:\",m)"
   ]
  },
  {
   "cell_type": "markdown",
   "id": "79b2f1ea",
   "metadata": {},
   "source": [
    "### 2. Write a Python program to convert Celsius to Fahrenheit?"
   ]
  },
  {
   "cell_type": "code",
   "execution_count": 5,
   "id": "7d4773ce",
   "metadata": {},
   "outputs": [
    {
     "name": "stdout",
     "output_type": "stream",
     "text": [
      "Enter the temperature in Celsius:93.2\n",
      "temperature in Fahrenheit: 199.76000000000002\n"
     ]
    }
   ],
   "source": [
    "c=float(input(\"Enter the temperature in Celsius:\"))\n",
    "f=(c*9/5)+32\n",
    "print(\"temperature in Fahrenheit:\",f)"
   ]
  },
  {
   "cell_type": "markdown",
   "id": "0d8b2a3d",
   "metadata": {},
   "source": [
    "### 3. Write a Python program to display calendar?"
   ]
  },
  {
   "cell_type": "code",
   "execution_count": 10,
   "id": "e554f21a",
   "metadata": {},
   "outputs": [
    {
     "name": "stdout",
     "output_type": "stream",
     "text": [
      "enter the year:2021\n",
      "enter the month:5\n",
      "      May 2021\n",
      "Mo Tu We Th Fr Sa Su\n",
      "                1  2\n",
      " 3  4  5  6  7  8  9\n",
      "10 11 12 13 14 15 16\n",
      "17 18 19 20 21 22 23\n",
      "24 25 26 27 28 29 30\n",
      "31\n",
      "\n"
     ]
    }
   ],
   "source": [
    "\n",
    "import calendar\n",
    "y=int(input(\"enter the year:\")) \n",
    "m=int(input(\"enter the month:\"))\n",
    "print(calendar.month(y , m))"
   ]
  },
  {
   "cell_type": "markdown",
   "id": "b67a2bb4",
   "metadata": {},
   "source": [
    "### 4. Write a Python program to solve quadratic equation?"
   ]
  },
  {
   "cell_type": "code",
   "execution_count": 14,
   "id": "b7e4a47e",
   "metadata": {},
   "outputs": [
    {
     "name": "stdout",
     "output_type": "stream",
     "text": [
      "Enter the value of a:5\n",
      "Enter the value of b:7\n",
      "Enter the value of c:-9\n",
      "Solution1: (-2.2132745950421557+0j)\n",
      "Solution2: (0.8132745950421556+0j)\n"
     ]
    }
   ],
   "source": [
    "import cmath # importing cmath module\n",
    "\n",
    "a=float(input(\"Enter the value of a:\"))\n",
    "b=float(input(\"Enter the value of b:\"))\n",
    "c=float(input(\"Enter the value of c:\"))\n",
    "\n",
    "d=(b**2)-(4*a*c) # to calculate discriminant\n",
    "\n",
    "#find two solutions\n",
    "s1=(-b-cmath.sqrt(d))/(2*a)\n",
    "s2=(-b+cmath.sqrt(d))/(2*a)\n",
    "\n",
    "print(\"Solution1:\",s1)\n",
    "print(\"Solution2:\",s2)\n"
   ]
  },
  {
   "cell_type": "markdown",
   "id": "31e7d5ae",
   "metadata": {},
   "source": [
    "### 5. Write a Python program to swap two variables without temp variable?\n"
   ]
  },
  {
   "cell_type": "code",
   "execution_count": 19,
   "id": "8585e8cb",
   "metadata": {},
   "outputs": [
    {
     "name": "stdout",
     "output_type": "stream",
     "text": [
      "enter the value of x:5\n",
      "enter the value of y:7\n",
      "before swaping value of x is 5 and value of y is 7\n",
      "after swaping value of x is 7 and value of y is 5\n"
     ]
    }
   ],
   "source": [
    "x=int(input(\"enter the value of x:\"))\n",
    "y=int(input(\"enter the value of y:\"))\n",
    "print(\"before swaping value of x is {} and value of y is {}\".format(x,y))\n",
    "x,y=y,x\n",
    "print(\"after swaping value of x is {} and value of y is {}\".format(x,y))"
   ]
  },
  {
   "cell_type": "code",
   "execution_count": null,
   "id": "96627837",
   "metadata": {},
   "outputs": [],
   "source": []
  }
 ],
 "metadata": {
  "kernelspec": {
   "display_name": "Python 3",
   "language": "python",
   "name": "python3"
  },
  "language_info": {
   "codemirror_mode": {
    "name": "ipython",
    "version": 3
   },
   "file_extension": ".py",
   "mimetype": "text/x-python",
   "name": "python",
   "nbconvert_exporter": "python",
   "pygments_lexer": "ipython3",
   "version": "3.8.8"
  }
 },
 "nbformat": 4,
 "nbformat_minor": 5
}
