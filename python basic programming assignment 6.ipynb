{
 "cells": [
  {
   "cell_type": "markdown",
   "id": "e34882fc",
   "metadata": {},
   "source": [
    "## 1.Write a Python Program to Display Fibonacci Sequence Using Recursion?"
   ]
  },
  {
   "cell_type": "code",
   "execution_count": 24,
   "id": "985f61b5",
   "metadata": {},
   "outputs": [
    {
     "name": "stdout",
     "output_type": "stream",
     "text": [
      "Enter the no: 5\n",
      "Fibonacci sequence:\n",
      "0\n",
      "1\n",
      "1\n",
      "2\n",
      "3\n"
     ]
    }
   ],
   "source": [
    "def FiboRec(a):  \n",
    "    if a <= 1:  \n",
    "        return a\n",
    "    else:  \n",
    "        return(FiboRec(a-1) + FiboRec(a-2))  \n",
    "\n",
    "a1 = int(input(\"Enter the no: \"))  \n",
    "if a1 <= 0:  \n",
    "    print(\"Please enter a positive integer\")  \n",
    "else:  \n",
    "    print(\"Fibonacci sequence:\")          \n",
    "for i in range(a1):  \n",
    "    print(FiboRec(i))"
   ]
  },
  {
   "cell_type": "markdown",
   "id": "9d7206b1",
   "metadata": {},
   "source": [
    "## 2. Write a Python Program to Find Factorial of Number Using Recursion?"
   ]
  },
  {
   "cell_type": "code",
   "execution_count": 1,
   "id": "b439455d",
   "metadata": {},
   "outputs": [
    {
     "name": "stdout",
     "output_type": "stream",
     "text": [
      "Enter the no: 4\n",
      "The factorial of 4 is 24\n"
     ]
    }
   ],
   "source": [
    "def recfact(n):\n",
    "       if n == 1:\n",
    "        return n\n",
    "       else:\n",
    "        return n*recfact(n-1)\n",
    "\n",
    "num = int(input(\"Enter the no: \"))  \n",
    "\n",
    "if num < 0:\n",
    "    print(\"factorial does not exist for negative numbers\")\n",
    "elif num == 0:\n",
    "    print(\"The factorial of 0 & 1 is 1\")\n",
    "else:\n",
    "    print(\"The factorial of\", num, \"is\", recfact(num))"
   ]
  },
  {
   "cell_type": "markdown",
   "id": "8162875d",
   "metadata": {},
   "source": [
    "## 3. Write a Python Program to calculate your Body Mass Index?"
   ]
  },
  {
   "cell_type": "code",
   "execution_count": 7,
   "id": "7f5df593",
   "metadata": {},
   "outputs": [
    {
     "name": "stdout",
     "output_type": "stream",
     "text": [
      "enter the name of person: Manjunath\n",
      "enter the Height:1.58\n",
      "enter the weight:77\n",
      "Body Mass index of Manjunath is 0.012987012987012988\n"
     ]
    }
   ],
   "source": [
    "def BMI(h,w):\n",
    "    bmi = w/(h**2)\n",
    "    return bmi\n",
    "n=input(\"enter the name of person: \")\n",
    "h=float(input(\"enter the Height:\" ))\n",
    "w=h=float(input(\"enter the weight:\"))\n",
    "print(\"Body Mass index of\",n,\"is\",BMI(h,w))"
   ]
  },
  {
   "cell_type": "markdown",
   "id": "cc1be3d9",
   "metadata": {},
   "source": [
    "## 4. Write a Python Program to calculate the natural logarithm of any number?"
   ]
  },
  {
   "cell_type": "markdown",
   "id": "79510a36",
   "metadata": {},
   "source": [
    "import math\n",
    "n=int(input(\"enter the no:\"))\n",
    "print(math.log(n))"
   ]
  },
  {
   "cell_type": "markdown",
   "id": "57c43fb8",
   "metadata": {},
   "source": [
    "## 5. Write a Python Program for cube sum of first n natural numbers?"
   ]
  },
  {
   "cell_type": "code",
   "execution_count": 17,
   "id": "06920068",
   "metadata": {},
   "outputs": [
    {
     "name": "stdout",
     "output_type": "stream",
     "text": [
      "enter the no:7\n",
      "784\n"
     ]
    }
   ],
   "source": [
    "def Cubesum(n):\n",
    "    a = 0\n",
    "    for i in range(1, n+1):\n",
    "        a +=i*i*i\n",
    "    return a\n",
    "n=int(input(\"enter the no:\"))\n",
    "print(Cubesum(n))"
   ]
  },
  {
   "cell_type": "code",
   "execution_count": null,
   "id": "f43b257e",
   "metadata": {},
   "outputs": [],
   "source": []
  }
 ],
 "metadata": {
  "kernelspec": {
   "display_name": "Python 3 (ipykernel)",
   "language": "python",
   "name": "python3"
  },
  "language_info": {
   "codemirror_mode": {
    "name": "ipython",
    "version": 3
   },
   "file_extension": ".py",
   "mimetype": "text/x-python",
   "name": "python",
   "nbconvert_exporter": "python",
   "pygments_lexer": "ipython3",
   "version": "3.9.7"
  }
 },
 "nbformat": 4,
 "nbformat_minor": 5
}
