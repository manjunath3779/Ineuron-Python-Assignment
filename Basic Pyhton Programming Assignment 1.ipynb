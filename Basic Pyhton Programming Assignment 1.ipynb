{
 "cells": [
  {
   "cell_type": "markdown",
   "id": "29ef5c7f",
   "metadata": {},
   "source": [
    "# Basic Pyhton Programming Assignment 1"
   ]
  },
  {
   "cell_type": "markdown",
   "id": "0365255b",
   "metadata": {},
   "source": [
    "###  1.Write a Python program to print \"Hello Python\"? "
   ]
  },
  {
   "cell_type": "code",
   "execution_count": 1,
   "id": "a52e7f54",
   "metadata": {},
   "outputs": [
    {
     "name": "stdout",
     "output_type": "stream",
     "text": [
      "Hello Pyhton\n"
     ]
    }
   ],
   "source": [
    "a='Hello Pyhton'\n",
    "print(a)"
   ]
  },
  {
   "cell_type": "markdown",
   "id": "fcdda049",
   "metadata": {},
   "source": [
    "###  2.Write a Python program to do arithmetical operations addition and division.? "
   ]
  },
  {
   "cell_type": "code",
   "execution_count": 8,
   "id": "8a253fc0",
   "metadata": {},
   "outputs": [
    {
     "name": "stdout",
     "output_type": "stream",
     "text": [
      "enter the no1:10\n",
      "enter the no2:5\n",
      "addition of two nos= 15\n",
      "Division of two nos= 2.0\n"
     ]
    }
   ],
   "source": [
    "a=int(input(\"enter the no1:\"))\n",
    "b=int(input(\"enter the no2:\"))\n",
    "c=a+b\n",
    "d=a/b\n",
    "print(\"addition of two nos=\",c)\n",
    "print(\"Division of two nos=\",d)"
   ]
  },
  {
   "cell_type": "markdown",
   "id": "a30399c4",
   "metadata": {},
   "source": [
    "###  3.Write a Python program to find the area of a triangle? "
   ]
  },
  {
   "cell_type": "code",
   "execution_count": 11,
   "id": "e5c2bf50",
   "metadata": {},
   "outputs": [
    {
     "name": "stdout",
     "output_type": "stream",
     "text": [
      "enter the base value 20\n",
      "enter the height value 20\n",
      "Area of triangle= 200.0\n"
     ]
    }
   ],
   "source": [
    "base=int(input(\"enter the base value \"))\n",
    "height=int(input(\"enter the height value \"))\n",
    "area=1/2*base*height\n",
    "print(\"Area of triangle=\",area)"
   ]
  },
  {
   "cell_type": "markdown",
   "id": "10023b7c",
   "metadata": {},
   "source": [
    "###  4.Write a Python program to swap two variables? "
   ]
  },
  {
   "cell_type": "code",
   "execution_count": 13,
   "id": "8422db5c",
   "metadata": {},
   "outputs": [
    {
     "name": "stdout",
     "output_type": "stream",
     "text": [
      "enter the value of m=10\n",
      "enter the value of n=5\n",
      "the value of m after swaping: 5\n",
      "the value of n after swaping: 10\n"
     ]
    }
   ],
   "source": [
    "m=int(input(\"enter the value of m=\"))\n",
    "n=int(input(\"enter the value of n=\"))\n",
    "#create a temp variable and swap the values\n",
    "temp = m\n",
    "m = n\n",
    "n = temp\n",
    "print(\"the value of m after swaping:\",m)\n",
    "print(\"the value of n after swaping:\",n)"
   ]
  },
  {
   "cell_type": "markdown",
   "id": "38858a23",
   "metadata": {},
   "source": [
    "###  5.Write a Python program to generate a random number? "
   ]
  },
  {
   "cell_type": "code",
   "execution_count": 14,
   "id": "fce7f1fc",
   "metadata": {},
   "outputs": [
    {
     "name": "stdout",
     "output_type": "stream",
     "text": [
      "random no is: 0.1993673902365759\n"
     ]
    }
   ],
   "source": [
    "import random as r\n",
    "a=r.random()\n",
    "print(\"random no is:\",a)"
   ]
  }
 ],
 "metadata": {
  "kernelspec": {
   "display_name": "Python 3",
   "language": "python",
   "name": "python3"
  },
  "language_info": {
   "codemirror_mode": {
    "name": "ipython",
    "version": 3
   },
   "file_extension": ".py",
   "mimetype": "text/x-python",
   "name": "python",
   "nbconvert_exporter": "python",
   "pygments_lexer": "ipython3",
   "version": "3.8.8"
  }
 },
 "nbformat": 4,
 "nbformat_minor": 5
}
