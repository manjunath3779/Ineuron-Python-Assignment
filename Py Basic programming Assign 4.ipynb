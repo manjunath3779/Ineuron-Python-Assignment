{
 "cells": [
  {
   "cell_type": "markdown",
   "id": "db1755f4",
   "metadata": {},
   "source": [
    "# Basic Python Programming Assignment 4"
   ]
  },
  {
   "cell_type": "markdown",
   "id": "2b8b26c9",
   "metadata": {},
   "source": [
    "### 1. Write a Python Program to Find the Factorial of a Number?"
   ]
  },
  {
   "cell_type": "code",
   "execution_count": 2,
   "id": "cbd6163c",
   "metadata": {},
   "outputs": [
    {
     "name": "stdout",
     "output_type": "stream",
     "text": [
      "enter the no: 7\n",
      "factorial of 7 is 5040\n"
     ]
    }
   ],
   "source": [
    "n=int(input(\"enter the no: \"))\n",
    "if n < 0:\n",
    "    print(\" factorial does not exists for negative no\")\n",
    "else:\n",
    "    fact=1\n",
    "    for i in range(1,n+1):\n",
    "        fact=fact*i\n",
    "print(\"factorial of\",n,\"is\",fact)"
   ]
  },
  {
   "cell_type": "markdown",
   "id": "3a0e075a",
   "metadata": {},
   "source": [
    "### 2. Write a Python Program to Display the multiplication Table?"
   ]
  },
  {
   "cell_type": "code",
   "execution_count": 16,
   "id": "d26565b4",
   "metadata": {},
   "outputs": [
    {
     "name": "stdout",
     "output_type": "stream",
     "text": [
      "enter the no:7\n",
      "Multiplication of table  7 is\n",
      "7 x 1 = 7\n",
      "7 x 2 = 14\n",
      "7 x 3 = 21\n",
      "7 x 4 = 28\n",
      "7 x 5 = 35\n",
      "7 x 6 = 42\n",
      "7 x 7 = 49\n",
      "7 x 8 = 56\n",
      "7 x 9 = 63\n",
      "7 x 10 = 70\n"
     ]
    }
   ],
   "source": [
    "n=int(input(\"enter the no:\"))\n",
    "print(\"Multiplication of table \",n,\"is\")\n",
    "for i in range(1,11):\n",
    "     print(n,'x',i,'=',n*i)\n",
    "    "
   ]
  },
  {
   "cell_type": "markdown",
   "id": "f68c1d1b",
   "metadata": {},
   "source": [
    "### 3. Write a Python Program to Print the Fibonacci sequence?\n"
   ]
  },
  {
   "cell_type": "code",
   "execution_count": 22,
   "id": "a9a39e6a",
   "metadata": {},
   "outputs": [
    {
     "name": "stdout",
     "output_type": "stream",
     "text": [
      "enter the no to print Fibonacci sequence of:8\n",
      "0\n",
      "1\n",
      "1\n",
      "2\n",
      "3\n",
      "5\n",
      "8\n",
      "13\n"
     ]
    }
   ],
   "source": [
    "n=int(input(\"enter the no to print Fibonacci sequence of:\"))\n",
    "a = 0\n",
    "b = 1\n",
    "print(a)\n",
    "print(b)\n",
    "for i in range(2,n):\n",
    "    c = a + b\n",
    "    a = b\n",
    "    b = c \n",
    "    print(c)"
   ]
  },
  {
   "cell_type": "markdown",
   "id": "b5cd56ea",
   "metadata": {},
   "source": [
    "### 4. Write a Python Program to Check Armstrong Number?"
   ]
  },
  {
   "cell_type": "code",
   "execution_count": 4,
   "id": "6ff943c1",
   "metadata": {},
   "outputs": [
    {
     "name": "stdout",
     "output_type": "stream",
     "text": [
      "Enter value to check Arstrong no: 2\n",
      "Its an armstrong no.\n"
     ]
    }
   ],
   "source": [
    "value=int(input(\"Enter value to check Arstrong no: \"))\n",
    "def Armstrong(x):\n",
    "    sum=0\n",
    "    n=len(str(x))\n",
    "    d=[int(i) for i in str(x)]\n",
    "\n",
    "    for i in d:\n",
    "        sum+=i**n  \n",
    "        \n",
    "    if sum == x:   \n",
    "        print(\"Its an armstrong no.\")\n",
    "    else:\n",
    "        print(\"Not an armstrong no.\")\n",
    "        \n",
    "Armstrong(value)"
   ]
  },
  {
   "cell_type": "markdown",
   "id": "4b001df2",
   "metadata": {},
   "source": [
    " ### 5.Write a Python Program to Find the Sum of Natural Numbers?"
   ]
  },
  {
   "cell_type": "code",
   "execution_count": 8,
   "id": "78fec8d5",
   "metadata": {},
   "outputs": [
    {
     "name": "stdout",
     "output_type": "stream",
     "text": [
      "Enter lower interval:10\n",
      "Enter higher interval: 500\n",
      "[153, 370, 371, 407]\n"
     ]
    }
   ],
   "source": [
    "lower_interval=int(input(\"Enter lower interval:\"))\n",
    "higher_interval=int(input(\"Enter higher interval: \"))\n",
    "l=[]\n",
    "\n",
    "def Armstrong(x):\n",
    "    count=0\n",
    "    n=len(str(x))\n",
    "    digit=[int(i) for i in str(x)]\n",
    "\n",
    "    for i in digit:\n",
    "        count+=i**n \n",
    "        \n",
    "    if count == x:   \n",
    "        l.append(count)\n",
    "        \n",
    "for num in range(lower_interval,higher_interval+1):\n",
    "    Armstrong(num)\n",
    "print(l)"
   ]
  },
  {
   "cell_type": "markdown",
   "id": "9cfde133",
   "metadata": {},
   "source": [
    "### 6.Write a Python Program to Find the Sum of Natural Numbers?"
   ]
  },
  {
   "cell_type": "code",
   "execution_count": 2,
   "id": "b1b868a4",
   "metadata": {},
   "outputs": [
    {
     "name": "stdout",
     "output_type": "stream",
     "text": [
      "Enter the Range to Find the Sum of Natural Numbers 5\n",
      "sum = 15\n"
     ]
    }
   ],
   "source": [
    "x=int(input(\"Enter the Range to Find the Sum of Natural Numbers \"))\n",
    "sum=0\n",
    "\n",
    "if x < 0:\n",
    "    print('Enter number above 0')\n",
    "else:    \n",
    "    for i in range(1,x+1):\n",
    "        sum+=i\n",
    "print(\"sum =\",sum)"
   ]
  },
  {
   "cell_type": "code",
   "execution_count": null,
   "id": "819dcbd7",
   "metadata": {},
   "outputs": [],
   "source": []
  }
 ],
 "metadata": {
  "kernelspec": {
   "display_name": "Python 3",
   "language": "python",
   "name": "python3"
  },
  "language_info": {
   "codemirror_mode": {
    "name": "ipython",
    "version": 3
   },
   "file_extension": ".py",
   "mimetype": "text/x-python",
   "name": "python",
   "nbconvert_exporter": "python",
   "pygments_lexer": "ipython3",
   "version": "3.8.8"
  }
 },
 "nbformat": 4,
 "nbformat_minor": 5
}
