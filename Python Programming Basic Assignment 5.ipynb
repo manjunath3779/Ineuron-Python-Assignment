{
 "cells": [
  {
   "cell_type": "markdown",
   "id": "c432ef02",
   "metadata": {},
   "source": [
    "## 1. Write a Python Program to Find LCM?"
   ]
  },
  {
   "cell_type": "code",
   "execution_count": 3,
   "id": "413bdc73",
   "metadata": {},
   "outputs": [
    {
     "name": "stdout",
     "output_type": "stream",
     "text": [
      "Enter no 1:28\n",
      "Enter no 2:10\n",
      "140\n"
     ]
    }
   ],
   "source": [
    "x=int(input(\"Enter no 1:\"))\n",
    "y=int(input(\"Enter no 2:\"))\n",
    "\n",
    "\n",
    "#gcd\n",
    "def gcd(x,y):\n",
    "    while(y):\n",
    "        x,y=y,x%y\n",
    "    return x    \n",
    "\n",
    "#lcm\n",
    "def lcm(x,y):\n",
    "    lcm = (x*y)//gcd(x,y)\n",
    "    return lcm\n",
    "\n",
    "\n",
    "\n",
    "print(lcm(x,y))"
   ]
  },
  {
   "cell_type": "markdown",
   "id": "a9dba4b7",
   "metadata": {},
   "source": [
    "## 2. Write a Python Program to Find HCF?"
   ]
  },
  {
   "cell_type": "code",
   "execution_count": 4,
   "id": "ea22e7ef",
   "metadata": {},
   "outputs": [
    {
     "name": "stdout",
     "output_type": "stream",
     "text": [
      "Enter no 1:500\n",
      "Enter no 2:400\n",
      "The HCF is 100\n"
     ]
    }
   ],
   "source": [
    "x=int(input(\"Enter no 1:\"))\n",
    "y=int(input(\"Enter no 2:\"))\n",
    "\n",
    "def hcf(x, y):\n",
    "    while(y):\n",
    "        x, y = y, x % y\n",
    "    return x\n",
    "\n",
    "\n",
    "print(\"The HCF is\",hcf(x,y))"
   ]
  },
  {
   "cell_type": "markdown",
   "id": "cbf3a199",
   "metadata": {},
   "source": [
    "## 3. Write a Python Program to Convert Decimal to Binary, Octal and Hexadecimal?"
   ]
  },
  {
   "cell_type": "code",
   "execution_count": 7,
   "id": "12bfc133",
   "metadata": {},
   "outputs": [
    {
     "name": "stdout",
     "output_type": "stream",
     "text": [
      "Enter a no:5\n",
      "The decimal value of 5 is:\n",
      "0b101 in binary.\n",
      "0o5 in octal.\n",
      "0x5 in hexadecimal.\n"
     ]
    }
   ],
   "source": [
    "decimal=int(input(\"Enter a no:\"))\n",
    "\n",
    "def converter():\n",
    "    print(\"The decimal value of\", decimal, \"is:\")\n",
    "    print(bin(decimal), \"in binary.\")\n",
    "    print(oct(decimal), \"in octal.\")\n",
    "    print(hex(decimal), \"in hexadecimal.\")\n",
    "       \n",
    "converter()    "
   ]
  },
  {
   "cell_type": "markdown",
   "id": "207290b9",
   "metadata": {},
   "source": [
    "## 4.Write a Python Program To Find ASCII value of a character?"
   ]
  },
  {
   "cell_type": "code",
   "execution_count": 15,
   "id": "0f0d7d35",
   "metadata": {},
   "outputs": [
    {
     "name": "stdout",
     "output_type": "stream",
     "text": [
      "Enter a character: A\n",
      "The ASCII value of A is 65\n"
     ]
    }
   ],
   "source": [
    "s=input(\"Enter a character: \")\n",
    "\n",
    "print(\"The ASCII value of \" + s + \" is\",ord(s))"
   ]
  },
  {
   "cell_type": "markdown",
   "id": "5f53aa40",
   "metadata": {},
   "source": [
    "## 5.Write a Python Program to Make a Simple Calculator with 4 basic mathematical operations?"
   ]
  },
  {
   "cell_type": "code",
   "execution_count": 23,
   "id": "e8595465",
   "metadata": {},
   "outputs": [
    {
     "name": "stdout",
     "output_type": "stream",
     "text": [
      "Please select the operation.\n",
      "a. Add\n",
      "b. Subtract\n",
      "c. Multiply\n",
      "d. Divide\n",
      "Please enter choice (a/ b/ c/ d): c\n",
      "Please enter the first number: 15\n",
      "Please enter the second number: 5\n",
      "Multiplication of two nos 15  *  5  is  75\n"
     ]
    }
   ],
   "source": [
    "    def add(x, y):\n",
    "        return x + y\n",
    "\n",
    "    def subtract(x, y):\n",
    "        return x - y\n",
    "\n",
    "    def multiply(x, y):\n",
    "        return x * y\n",
    "\n",
    "    def divide(x, y):\n",
    "        return x / y\n",
    "\n",
    "print (\"Please select the operation.\")    \n",
    "print (\"a. Add\")    \n",
    "print (\"b. Subtract\")    \n",
    "print (\"c. Multiply\")    \n",
    "print (\"d. Divide\")    \n",
    "    \n",
    "choice = input(\"Please enter choice (a/ b/ c/ d): \")    \n",
    "    \n",
    "x = int (input (\"Please enter the first number: \"))    \n",
    "y = int (input (\"Please enter the second number: \"))    \n",
    "    \n",
    "if choice == 'a':    \n",
    "   print (\"Addition of two nos\",x, \" + \", y, \" is \", add(x,y))    \n",
    "    \n",
    "elif choice == 'b':    \n",
    "   print (\"Subtraction of two nos\",x, \" - \", y, \" is \", subtract(x,y))    \n",
    "    \n",
    "elif choice == 'c':    \n",
    "   print (\"Multiplication of two nos\",x, \" * \", y, \" is \", multiply(x,y))    \n",
    "elif choice == 'd':    \n",
    "   print (\"Dividion  of two nos\",x, \" / \", y, \" is \", divide(x,y))    \n",
    "else:    \n",
    "   print (\"This is an invalid input\")    \n"
   ]
  },
  {
   "cell_type": "code",
   "execution_count": null,
   "id": "92973e88",
   "metadata": {},
   "outputs": [],
   "source": []
  }
 ],
 "metadata": {
  "kernelspec": {
   "display_name": "Python 3 (ipykernel)",
   "language": "python",
   "name": "python3"
  },
  "language_info": {
   "codemirror_mode": {
    "name": "ipython",
    "version": 3
   },
   "file_extension": ".py",
   "mimetype": "text/x-python",
   "name": "python",
   "nbconvert_exporter": "python",
   "pygments_lexer": "ipython3",
   "version": "3.9.7"
  }
 },
 "nbformat": 4,
 "nbformat_minor": 5
}
