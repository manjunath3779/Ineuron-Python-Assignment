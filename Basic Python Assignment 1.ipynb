{
 "cells": [
  {
   "cell_type": "markdown",
   "id": "8b3bc7f0",
   "metadata": {},
   "source": [
    "1. In the below elements which of them are values or an expression? eg:- values can be integer or string and expressions will be mathematical operators. \n",
    "\n",
    "Answer: Expressions= * - / +\n",
    "        Values= -87.8,6,\"hello\""
   ]
  },
  {
   "cell_type": "markdown",
   "id": "a8ce807b",
   "metadata": {},
   "source": [
    "2. What is the difference between string and variable?\n",
    "\n",
    "Answer: \n",
    "String: The String is an Data type were we put the sequence of characters inside either single code(' ') or doubke         quote(\" \") and then assign it to variable. eg a=\"Manjunath\"\n",
    "\n",
    "Variable: It is a references that you create to represent any value in your program.eg:a=2(here a is variable and assigned value is 2)"
   ]
  },
  {
   "cell_type": "markdown",
   "id": "8c01429b",
   "metadata": {},
   "source": [
    "3. Describe three different data types. \n",
    "\n",
    "Answer:\n",
    "Integer: It contains positive or negative whole numbers eg:a=10.\n",
    "Boolean: This data types return two values True or False. \n",
    "Float:It conatains positive or negative decimal point numbers.eg:a=-87.6 "
   ]
  },
  {
   "cell_type": "markdown",
   "id": "dcf01103",
   "metadata": {},
   "source": [
    "4. What is an expression made up of? What do all expressions do? \n",
    "\n",
    "Answer:\n",
    "Expression represents the value.Expression is combination of values,variables and operations.if you type and expression on the command line.the interpreter evaluates it and display the result.\n",
    "for eg:\n"
   ]
  },
  {
   "cell_type": "code",
   "execution_count": 5,
   "id": "370a312b",
   "metadata": {},
   "outputs": [
    {
     "data": {
      "text/plain": [
       "3"
      ]
     },
     "execution_count": 5,
     "metadata": {},
     "output_type": "execute_result"
    }
   ],
   "source": [
    "1+2"
   ]
  },
  {
   "cell_type": "markdown",
   "id": "970eaeac",
   "metadata": {},
   "source": [
    "5. This assignment statements, like spam = 10. What is the difference between an expression and a statement? \n",
    "\n",
    "Answers: \n",
    "Anything that evaluates to something is a python expression,while anything that does something is a python statement like loops,assignment statement etc.\n",
    "for eg:(print() where print is a statement,it print whatever is written inside it)\n"
   ]
  },
  {
   "cell_type": "markdown",
   "id": "a08d2fe2",
   "metadata": {},
   "source": [
    "6. After running the following code, what does the variable bacon contain? \n",
    "Answer: The bacon returns the value 23."
   ]
  },
  {
   "cell_type": "code",
   "execution_count": 1,
   "id": "774f0300",
   "metadata": {},
   "outputs": [
    {
     "data": {
      "text/plain": [
       "23"
      ]
     },
     "execution_count": 1,
     "metadata": {},
     "output_type": "execute_result"
    }
   ],
   "source": [
    "bacon = 22 \n",
    "\n",
    "bacon + 1 "
   ]
  },
  {
   "cell_type": "markdown",
   "id": "cffdde97",
   "metadata": {},
   "source": [
    "7. What should the values of the following two terms be? \n",
    "spam' + 'spamspam' \n",
    "\n",
    "'spam' * 3 \n",
    "\n",
    "Answer:\n",
    "\n"
   ]
  },
  {
   "cell_type": "code",
   "execution_count": 3,
   "id": "e60b748e",
   "metadata": {},
   "outputs": [
    {
     "name": "stdout",
     "output_type": "stream",
     "text": [
      "a= spamspamspam\n",
      "b= spamspamspam\n"
     ]
    }
   ],
   "source": [
    "a='spam'+\"spamspam\"\n",
    "b='spam'*3\n",
    "print(\"a=\",a)\n",
    "print(\"b=\",b)"
   ]
  },
  {
   "cell_type": "markdown",
   "id": "1101beb9",
   "metadata": {},
   "source": [
    "8. Why is eggs a valid variable name while 100 is invalid? \n",
    "\n",
    "Answer:\n",
    "Variable 100 is invalid it will give error because in python the variable name should begin with a Letter not a integer.\n",
    "for eg: num=0\n",
    "    "
   ]
  },
  {
   "cell_type": "code",
   "execution_count": 4,
   "id": "7929e326",
   "metadata": {},
   "outputs": [
    {
     "ename": "SyntaxError",
     "evalue": "cannot assign to literal (<ipython-input-4-291b1ee36684>, line 1)",
     "output_type": "error",
     "traceback": [
      "\u001b[1;36m  File \u001b[1;32m\"<ipython-input-4-291b1ee36684>\"\u001b[1;36m, line \u001b[1;32m1\u001b[0m\n\u001b[1;33m    100=0\u001b[0m\n\u001b[1;37m    ^\u001b[0m\n\u001b[1;31mSyntaxError\u001b[0m\u001b[1;31m:\u001b[0m cannot assign to literal\n"
     ]
    }
   ],
   "source": [
    "100=0"
   ]
  },
  {
   "cell_type": "markdown",
   "id": "5e15f4bb",
   "metadata": {},
   "source": [
    "9. What three functions can be used to get the integer, floating-point number, or string version of a value? \n",
    "\n",
    "Answer:\n",
    "The int(),float(),str() functions can be used to get the integer,floating point number,or string version of a value."
   ]
  },
  {
   "cell_type": "markdown",
   "id": "d77c91b8",
   "metadata": {},
   "source": [
    "10. Why does this expression cause an error? How can you fix it? \n",
    "\n",
    "'I have eaten ' + 99 + ' burritos.' \n",
    "\n",
    "Answer: Above expression gives error because we cannot concatenate str with int.To execute this we can convert int to string i.e \n",
    "99 string to '99'\n"
   ]
  },
  {
   "cell_type": "code",
   "execution_count": 5,
   "id": "55a57331",
   "metadata": {},
   "outputs": [
    {
     "ename": "TypeError",
     "evalue": "can only concatenate str (not \"int\") to str",
     "output_type": "error",
     "traceback": [
      "\u001b[1;31m---------------------------------------------------------------------------\u001b[0m",
      "\u001b[1;31mTypeError\u001b[0m                                 Traceback (most recent call last)",
      "\u001b[1;32m<ipython-input-5-a6c179f0b9e2>\u001b[0m in \u001b[0;36m<module>\u001b[1;34m\u001b[0m\n\u001b[1;32m----> 1\u001b[1;33m \u001b[1;34m'I have eaten '\u001b[0m \u001b[1;33m+\u001b[0m \u001b[1;36m99\u001b[0m \u001b[1;33m+\u001b[0m \u001b[1;34m' burritos.'\u001b[0m\u001b[1;33m\u001b[0m\u001b[1;33m\u001b[0m\u001b[0m\n\u001b[0m",
      "\u001b[1;31mTypeError\u001b[0m: can only concatenate str (not \"int\") to str"
     ]
    }
   ],
   "source": [
    "'I have eaten ' + 99 + ' burritos.' "
   ]
  },
  {
   "cell_type": "code",
   "execution_count": 6,
   "id": "12075968",
   "metadata": {},
   "outputs": [
    {
     "data": {
      "text/plain": [
       "'I have eaten 99 burritos.'"
      ]
     },
     "execution_count": 6,
     "metadata": {},
     "output_type": "execute_result"
    }
   ],
   "source": [
    "'I have eaten ' + '99'+ ' burritos.' "
   ]
  }
 ],
 "metadata": {
  "kernelspec": {
   "display_name": "Python 3",
   "language": "python",
   "name": "python3"
  },
  "language_info": {
   "codemirror_mode": {
    "name": "ipython",
    "version": 3
   },
   "file_extension": ".py",
   "mimetype": "text/x-python",
   "name": "python",
   "nbconvert_exporter": "python",
   "pygments_lexer": "ipython3",
   "version": "3.8.8"
  }
 },
 "nbformat": 4,
 "nbformat_minor": 5
}
