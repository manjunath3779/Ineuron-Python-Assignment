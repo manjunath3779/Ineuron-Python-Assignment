{
 "cells": [
  {
   "cell_type": "markdown",
   "id": "633253ba",
   "metadata": {},
   "source": [
    "## 1. Write a Python Program to find sum of array?"
   ]
  },
  {
   "cell_type": "code",
   "execution_count": 40,
   "id": "a12dfd59",
   "metadata": {},
   "outputs": [
    {
     "name": "stdout",
     "output_type": "stream",
     "text": [
      "Sum of Array is  310\n"
     ]
    }
   ],
   "source": [
    "def Sum(arr):\n",
    "    sum=0\n",
    "    arr=[10,20,80,60,140]\n",
    "    for i in range(len(arr)):\n",
    "        sum=sum+arr[i];\n",
    "    return(sum)\n",
    "print(\"Sum of Array is \",Sum(arr))\n",
    "\n"
   ]
  },
  {
   "cell_type": "markdown",
   "id": "ad785214",
   "metadata": {},
   "source": [
    "## 2. Write a Python Program to find largest element in an array?"
   ]
  },
  {
   "cell_type": "code",
   "execution_count": 49,
   "id": "eb30f88d",
   "metadata": {},
   "outputs": [
    {
     "name": "stdout",
     "output_type": "stream",
     "text": [
      "largest element in an array is 140\n"
     ]
    }
   ],
   "source": [
    "def largest(arr,n):\n",
    "    max=arr[0]\n",
    "    for i in range(1,n):\n",
    "        if(arr[i]>max):\n",
    "            max = arr[i]\n",
    "    return max\n",
    "\n",
    "arr=[10,20,80,60,140]\n",
    "n=len(arr)\n",
    "print(\"largest element in an array is\",largest(arr,n))"
   ]
  },
  {
   "cell_type": "markdown",
   "id": "f6dc116f",
   "metadata": {},
   "source": [
    "## 3. Write a Python Program for array rotation?"
   ]
  },
  {
   "cell_type": "code",
   "execution_count": 61,
   "id": "e338a27d",
   "metadata": {},
   "outputs": [
    {
     "name": "stdout",
     "output_type": "stream",
     "text": [
      "Rotated list is [3, 4, 5, 6, 1, 2]\n"
     ]
    }
   ],
   "source": [
    "def rotateArray(a,d):\n",
    "    n=len(a)\n",
    "    a[:]=a[d:n]+a[0:d]\n",
    "    return a\n",
    "\n",
    "arr = [1, 2, 3, 4, 5, 6]\n",
    "print(\"Rotated list is\",rotateArray(arr,2))"
   ]
  },
  {
   "cell_type": "markdown",
   "id": "fee12936",
   "metadata": {},
   "source": [
    "## 4. Write a Python Program to Split the array and add the first part to the end?"
   ]
  },
  {
   "cell_type": "code",
   "execution_count": 59,
   "id": "50bd47d4",
   "metadata": {},
   "outputs": [
    {
     "name": "stdout",
     "output_type": "stream",
     "text": [
      " array is [5, 17, 10, 13]\n"
     ]
    }
   ],
   "source": [
    "def split(arr, m):\n",
    "    arr = arr[m:] + arr[:m]\n",
    "    return arr\n",
    "m = 2\n",
    "arr = [10, 13, 5, 17]\n",
    "print(\" array is\", split(arr, m))"
   ]
  },
  {
   "cell_type": "markdown",
   "id": "95835fbb",
   "metadata": {},
   "source": [
    "## 5. Write a Python Program to check if given array is Monotonic?"
   ]
  },
  {
   "cell_type": "code",
   "execution_count": 65,
   "id": "62e8b9fb",
   "metadata": {},
   "outputs": [
    {
     "name": "stdout",
     "output_type": "stream",
     "text": [
      "True\n"
     ]
    }
   ],
   "source": [
    "def Monotonic(Array):\n",
    "      return (all(Array[i] <= Array[i + 1] for i in range(len(Array) - 1)) or\n",
    "                all(Array[i] >= Array[i + 1] for i in range(len(Array) - 1)))\n",
    "Array = [1,3,5,7,9,9] \n",
    "print(Monotonic(Array))"
   ]
  },
  {
   "cell_type": "code",
   "execution_count": 67,
   "id": "50c5ceaa",
   "metadata": {},
   "outputs": [
    {
     "ename": "SyntaxError",
     "evalue": "invalid syntax (Temp/ipykernel_12004/3251306530.py, line 3)",
     "output_type": "error",
     "traceback": [
      "\u001b[1;36m  File \u001b[1;32m\"C:\\Users\\91876\\AppData\\Local\\Temp/ipykernel_12004/3251306530.py\"\u001b[1;36m, line \u001b[1;32m3\u001b[0m\n\u001b[1;33m    return all\u001b[0m\n\u001b[1;37m    ^\u001b[0m\n\u001b[1;31mSyntaxError\u001b[0m\u001b[1;31m:\u001b[0m invalid syntax\n"
     ]
    }
   ],
   "source": [
    "def Monotonic(Array):\n",
    "      if((Array[i] <= Array[i + 1] for i in range(len(Array) - 1))\n",
    "        return all\n",
    "         else:\n",
    "             all(Array[i] >= Array[i + 1] for i in range(len(Array) - 1)))\n",
    "Array = [1,3,5,7,9,9] \n",
    "print(Monotonic(Array))"
   ]
  },
  {
   "cell_type": "code",
   "execution_count": null,
   "id": "aeac860f",
   "metadata": {},
   "outputs": [],
   "source": []
  }
 ],
 "metadata": {
  "kernelspec": {
   "display_name": "Python 3 (ipykernel)",
   "language": "python",
   "name": "python3"
  },
  "language_info": {
   "codemirror_mode": {
    "name": "ipython",
    "version": 3
   },
   "file_extension": ".py",
   "mimetype": "text/x-python",
   "name": "python",
   "nbconvert_exporter": "python",
   "pygments_lexer": "ipython3",
   "version": "3.9.7"
  }
 },
 "nbformat": 4,
 "nbformat_minor": 5
}
