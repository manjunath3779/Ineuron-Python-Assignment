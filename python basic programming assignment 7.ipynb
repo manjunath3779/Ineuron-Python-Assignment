{
 "cells": [
  {
   "cell_type": "markdown",
   "id": "23ea072b",
   "metadata": {},
   "source": [
    "## 1. Write a Python Program to find sum of array?"
   ]
  },
  {
   "cell_type": "code",
   "execution_count": 40,
   "id": "6adca532",
   "metadata": {},
   "outputs": [
    {
     "name": "stdout",
     "output_type": "stream",
     "text": [
      "Sum of Array is  310\n"
     ]
    }
   ],
   "source": [
    "def Sum(arr):\n",
    "    sum=0\n",
    "    arr=[10,20,80,60,140]\n",
    "    for i in range(len(arr)):\n",
    "        sum=sum+arr[i];\n",
    "    return(sum)\n",
    "print(\"Sum of Array is \",Sum(arr))\n",
    "\n"
   ]
  },
  {
   "cell_type": "markdown",
   "id": "2cc234c1",
   "metadata": {},
   "source": [
    "## 2. Write a Python Program to find largest element in an array?"
   ]
  },
  {
   "cell_type": "code",
   "execution_count": 49,
   "id": "6e1d9088",
   "metadata": {},
   "outputs": [
    {
     "name": "stdout",
     "output_type": "stream",
     "text": [
      "largest element in an array is 140\n"
     ]
    }
   ],
   "source": [
    "def largest(arr,n):\n",
    "    max=arr[0]\n",
    "    for i in range(1,n):\n",
    "        if(arr[i]>max):\n",
    "            max = arr[i]\n",
    "    return max\n",
    "\n",
    "arr=[10,20,80,60,140]\n",
    "n=len(arr)\n",
    "print(\"largest element in an array is\",largest(arr,n))"
   ]
  },
  {
   "cell_type": "markdown",
   "id": "5b7fb803",
   "metadata": {},
   "source": [
    "## 3. Write a Python Program for array rotation?"
   ]
  },
  {
   "cell_type": "code",
   "execution_count": 61,
   "id": "6a0fbca8",
   "metadata": {},
   "outputs": [
    {
     "name": "stdout",
     "output_type": "stream",
     "text": [
      "Rotated list is [3, 4, 5, 6, 1, 2]\n"
     ]
    }
   ],
   "source": [
    "def rotateArray(a,d):\n",
    "    n=len(a)\n",
    "    a[:]=a[d:n]+a[0:d]\n",
    "    return a\n",
    "\n",
    "arr = [1, 2, 3, 4, 5, 6]\n",
    "print(\"Rotated list is\",rotateArray(arr,2))"
   ]
  },
  {
   "cell_type": "markdown",
   "id": "7cbbc0bc",
   "metadata": {},
   "source": [
    "## 4. Write a Python Program to Split the array and add the first part to the end?"
   ]
  },
  {
   "cell_type": "code",
   "execution_count": 59,
   "id": "28ab36ca",
   "metadata": {},
   "outputs": [
    {
     "name": "stdout",
     "output_type": "stream",
     "text": [
      " array is [5, 17, 10, 13]\n"
     ]
    }
   ],
   "source": [
    "def split(arr, m):\n",
    "    arr = arr[m:] + arr[:m]\n",
    "    return arr\n",
    "m = 2\n",
    "arr = [10, 13, 5, 17]\n",
    "print(\" array is\", split(arr, m))"
   ]
  },
  {
   "cell_type": "markdown",
   "id": "3ac904f4",
   "metadata": {},
   "source": [
    "## 5. Write a Python Program to check if given array is Monotonic?"
   ]
  },
  {
   "cell_type": "code",
   "execution_count": 70,
   "id": "3fa0d892",
   "metadata": {},
   "outputs": [
    {
     "name": "stdout",
     "output_type": "stream",
     "text": [
      "True\n"
     ]
    }
   ],
   "source": [
    "def Monotonic(Array):\n",
    "      return (all(Array[i] <= Array[i + 1] for i in range(len(Array) - 1)) or\n",
    "                all(Array[i] >= Array[i + 1] for i in range(len(Array) - 1)))\n",
    "Array = [1,3,5,7,9,9] \n",
    "print(Monotonic(Array))"
   ]
  },
  {
   "cell_type": "code",
   "execution_count": null,
   "id": "98d99262",
   "metadata": {},
   "outputs": [],
   "source": []
  },
  {
   "cell_type": "code",
   "execution_count": null,
   "id": "42815168",
   "metadata": {},
   "outputs": [],
   "source": []
  },
  {
   "cell_type": "code",
   "execution_count": null,
   "id": "017fc926",
   "metadata": {},
   "outputs": [],
   "source": []
  }
 ],
 "metadata": {
  "kernelspec": {
   "display_name": "Python 3 (ipykernel)",
   "language": "python",
   "name": "python3"
  },
  "language_info": {
   "codemirror_mode": {
    "name": "ipython",
    "version": 3
   },
   "file_extension": ".py",
   "mimetype": "text/x-python",
   "name": "python",
   "nbconvert_exporter": "python",
   "pygments_lexer": "ipython3",
   "version": "3.9.7"
  }
 },
 "nbformat": 4,
 "nbformat_minor": 5
}
